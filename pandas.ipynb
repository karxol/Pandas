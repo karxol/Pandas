{
 "cells": [
  {
   "cell_type": "code",
   "execution_count": 1,
   "metadata": {},
   "outputs": [],
   "source": [
    "import pandas as pd\n",
    "import matplotlib\n",
    "import matplotlib.pyplot as plt\n",
    "\n",
    "pd.__version__\n",
    "\n",
    "prices = [\n",
    "\t(1, 2.12),\n",
    "\t(2, 2.56),\n",
    "\t(3, 3.10),\n",
    "\t(4, 3.16),\n",
    "\t(5, 3.58),\n",
    "\t(6, 5.12),\n",
    "\t(7, 5.16),\n",
    "\t(8, 5.20),\n",
    "\t(9, 4.12),\n",
    "\t(10, 4.10),\n",
    "\t(11, 3.65),\n",
    "\t(12, 4.25),\n",
    "\n",
    "]\n",
    "df = pd.DataFrame(prices)\n",
    "print(df)\n",
    "\n",
    "df = pd.DataFrame(prices, columns=[\"month\", \"price\"])\n",
    "df = df.set_index(\"month\")\n",
    "print(df)\n",
    "\n",
    "kurs = 4\n",
    "price_USD = df['price'].apply(lambda price: price/kurs)\n",
    "df[\"price\"] = price_USD\n",
    "print(df)\n",
    "\n",
    "plt.plot(df.index, df[\"price\"])\n",
    "\n",
    "plt.plot(df.index, df[\"price\"])\n",
    "fig, ax = plt.subplots(figsize=(10,8))\n",
    "res = ax.plot(df.index, df[\"price\"])\n",
    "line = res[0]\n",
    "line.set_c('#d1371f')\n",
    "line.set_linestyle('dashed')"
   ]
  }
 ],
 "metadata": {
  "kernelspec": {
   "display_name": "Python 3.10.5 ('Python310')",
   "language": "python",
   "name": "python3"
  },
  "language_info": {
   "codemirror_mode": {
    "name": "ipython",
    "version": 3
   },
   "file_extension": ".py",
   "mimetype": "text/x-python",
   "name": "python",
   "nbconvert_exporter": "python",
   "pygments_lexer": "ipython3",
   "version": "3.10.5"
  },
  "orig_nbformat": 4,
  "vscode": {
   "interpreter": {
    "hash": "91b433eed79e0a79ab63ad4f9735b3fa458d950c95e1dd1343a4686cea262758"
   }
  }
 },
 "nbformat": 4,
 "nbformat_minor": 2
}
